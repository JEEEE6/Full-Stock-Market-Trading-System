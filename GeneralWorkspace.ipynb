{
 "cells": [
  {
   "cell_type": "code",
   "execution_count": 12,
   "metadata": {},
   "outputs": [
    {
     "name": "stdout",
     "output_type": "stream",
     "text": [
      "New data:\n",
      "  Symbol LastBuySignalDate  LastBuySignalPrice  IsCurrentlyBought  \\\n",
      "0    FOA        2024-09-09               12.26              False   \n",
      "\n",
      "   ConsecutiveLosses  LastTradedDate  UpProbability  LastSellPrice  \\\n",
      "0                  0             NaN           0.72            NaN   \n",
      "\n",
      "   PositionSize  \n",
      "0           NaN  \n",
      "\n",
      "Data has been created and saved to trading_data.parquet\n"
     ]
    }
   ],
   "source": [
    "import pandas as pd\n",
    "import numpy as np\n",
    "\n",
    "# Create a new DataFrame with the FOA entry\n",
    "data = pd.DataFrame({\n",
    "    'Symbol': ['FOA'],\n",
    "    'LastBuySignalDate': ['2024-09-09'],\n",
    "    'LastBuySignalPrice': [12.26],\n",
    "    'IsCurrentlyBought': [False],\n",
    "    'ConsecutiveLosses': [0],\n",
    "    'LastTradedDate': [np.nan],\n",
    "    'UpProbability': [0.72],\n",
    "    'LastSellPrice': [np.nan],\n",
    "    'PositionSize': [np.nan]\n",
    "})\n",
    "\n",
    "# Print the new data\n",
    "print(\"New data:\")\n",
    "print(data)\n",
    "\n",
    "# Save the data to the parquet file\n",
    "data.to_parquet(\"_Live_trades.parquet\")\n",
    "\n",
    "print(\"\\nData has been created and saved to trading_data.parquet\")"
   ]
  },
  {
   "cell_type": "code",
   "execution_count": 1,
   "metadata": {},
   "outputs": [
    {
     "name": "stdout",
     "output_type": "stream",
     "text": [
      "  Symbol LastBuySignalDate  LastBuySignalPrice  IsCurrentlyBought  \\\n",
      "0    FOA        2024-09-09               12.26               True   \n",
      "\n",
      "   ConsecutiveLosses LastTradedDate  UpProbability  LastSellPrice  \\\n",
      "0                  0            NaT           0.72            NaN   \n",
      "\n",
      "   PositionSize  \n",
      "0           0.0  \n"
     ]
    }
   ],
   "source": [
    "import pandas as pd\n",
    "\n",
    "df = pd.read_parquet('_Live_trades.parquet')\n",
    "\n",
    "print(df.head())"
   ]
  },
  {
   "cell_type": "code",
   "execution_count": 2,
   "metadata": {},
   "outputs": [
    {
     "name": "stdout",
     "output_type": "stream",
     "text": [
      "                 Open       High        Low      Close  Adj Close    Volume\n",
      "Date                                                                       \n",
      "2024-09-10  218.92000  221.48000  216.73000  220.11000  220.11000  51591000\n",
      "2024-09-11  221.46001  223.09000  217.89000  222.66000  222.66000  44587100\n",
      "2024-09-12  222.50000  223.55000  219.82001  222.77000  222.77000  37498200\n",
      "2024-09-13  223.58000  224.03999  221.91000  222.50000  222.50000  36766600\n",
      "2024-09-16  216.53999  217.22000  213.92000  216.32001  216.32001  59288400\n"
     ]
    }
   ],
   "source": [
    "import pandas as pd\n",
    "\n",
    "df = pd.read_parquet('Data\\PriceData\\AAPL.parquet')\n",
    "\n",
    "print(df.tail())"
   ]
  },
  {
   "cell_type": "code",
   "execution_count": 4,
   "metadata": {},
   "outputs": [
    {
     "name": "stdout",
     "output_type": "stream",
     "text": [
      "Found 13 parquet files in Data\\PriceData\n",
      "Expected latest trading date: 2024-09-20\n",
      "\n",
      "=== Up-to-date Files ===\n",
      "\n",
      "=== Stale Files ===\n",
      "AAPL.parquet: Latest date = 2024-09-19\n",
      "AMZN.parquet: Latest date = 2024-09-19\n",
      "AVGO.parquet: Latest date = 2024-09-19\n",
      "BRK-B.parquet: Latest date = 2024-09-19\n",
      "GOOGL.parquet: Latest date = 2024-09-19\n",
      "JPM.parquet: Latest date = 2024-09-19\n",
      "LLY.parquet: Latest date = 2024-09-19\n",
      "META.parquet: Latest date = 2024-09-19\n",
      "MSFT.parquet: Latest date = 2024-09-19\n",
      "NVDA.parquet: Latest date = 2024-09-19\n",
      "NVO.parquet: Latest date = 2024-09-19\n",
      "TSLA.parquet: Latest date = 2024-09-19\n",
      "TSM.parquet: Latest date = 2024-09-19\n",
      "\n",
      "Out of 13 files, 13 are out of date.\n",
      "Percentage of stale files: 100.00%\n"
     ]
    }
   ],
   "source": [
    "import pandas as pd\n",
    "import os\n",
    "from datetime import datetime, timedelta\n",
    "\n",
    "# Define the path to the data folder\n",
    "data_folder = os.path.join(\"Data\", \"PriceData\")\n",
    "\n",
    "# Function to get the last trading day based on today's date\n",
    "def get_last_trading_day(reference_date=None):\n",
    "    \"\"\"\n",
    "    Returns the last trading day based on the reference_date.\n",
    "    If today is Saturday, returns Friday.\n",
    "    If today is Sunday, returns Friday.\n",
    "    Otherwise, returns the previous trading day.\n",
    "    \"\"\"\n",
    "    if reference_date is None:\n",
    "        reference_date = datetime.today()\n",
    "    else:\n",
    "        reference_date = reference_date\n",
    "\n",
    "    # Weekday: Monday=0, Sunday=6\n",
    "    weekday = reference_date.weekday()\n",
    "\n",
    "    if weekday == 5:  # Saturday\n",
    "        last_trading_day = reference_date - timedelta(days=1)\n",
    "    elif weekday == 6:  # Sunday\n",
    "        last_trading_day = reference_date - timedelta(days=2)\n",
    "    else:\n",
    "        last_trading_day = reference_date\n",
    "\n",
    "    # Ensure it's a weekday\n",
    "    if last_trading_day.weekday() >= 5:\n",
    "        # If it's Saturday or Sunday, adjust to Friday\n",
    "        last_trading_day -= timedelta(days=last_trading_day.weekday() - 4)\n",
    "    \n",
    "    return last_trading_day.date()\n",
    "\n",
    "# Get the expected latest trading date\n",
    "expected_latest_date = get_last_trading_day()\n",
    "\n",
    "# Get list of all .parquet files in the folder\n",
    "parquet_files = [f for f in os.listdir(data_folder) if f.endswith('.parquet')]\n",
    "\n",
    "print(f\"Found {len(parquet_files)} parquet files in {data_folder}\")\n",
    "print(f\"Expected latest trading date: {expected_latest_date}\")\n",
    "\n",
    "# Initialize lists to hold file statuses\n",
    "stale_files = []\n",
    "up_to_date_files = []\n",
    "file_latest_dates = {}\n",
    "\n",
    "# Iterate over each parquet file\n",
    "for file in parquet_files:\n",
    "    file_path = os.path.join(data_folder, file)\n",
    "    try:\n",
    "        # Read the parquet file\n",
    "        df = pd.read_parquet(file_path)\n",
    "        \n",
    "        # Check if 'Date' is the index\n",
    "        if isinstance(df.index, pd.DatetimeIndex):\n",
    "            latest_date = df.index.max().date()\n",
    "        elif 'Date' in df.columns:\n",
    "            # If 'Date' is a column\n",
    "            df['Date'] = pd.to_datetime(df['Date'])\n",
    "            latest_date = df['Date'].max().date()\n",
    "        else:\n",
    "            print(f\"File {file} does not have a 'Date' column or index.\")\n",
    "            continue\n",
    "        \n",
    "        # Store the latest date\n",
    "        file_latest_dates[file] = latest_date\n",
    "        \n",
    "        # Compare with expected latest date\n",
    "        if latest_date < expected_latest_date:\n",
    "            stale_files.append((file, latest_date))\n",
    "        else:\n",
    "            up_to_date_files.append((file, latest_date))\n",
    "            \n",
    "    except Exception as e:\n",
    "        print(f\"Error processing file {file}: {e}\")\n",
    "\n",
    "# Report Up-to-date Files\n",
    "print(\"\\n=== Up-to-date Files ===\")\n",
    "for file, date in up_to_date_files:\n",
    "    print(f\"{file}: Latest date = {date}\")\n",
    "\n",
    "# Report Stale Files\n",
    "print(\"\\n=== Stale Files ===\")\n",
    "for file, date in stale_files:\n",
    "    print(f\"{file}: Latest date = {date}\")\n",
    "\n",
    "# Calculate the percentage of stale files\n",
    "total_files = len(parquet_files)\n",
    "stale_count = len(stale_files)\n",
    "stale_percentage = (stale_count / total_files) * 100 if total_files > 0 else 0\n",
    "\n",
    "print(f\"\\nOut of {total_files} files, {stale_count} are out of date.\")\n",
    "print(f\"Percentage of stale files: {stale_percentage:.2f}%\")\n"
   ]
  }
 ],
 "metadata": {
  "kernelspec": {
   "display_name": "tf",
   "language": "python",
   "name": "python3"
  },
  "language_info": {
   "codemirror_mode": {
    "name": "ipython",
    "version": 3
   },
   "file_extension": ".py",
   "mimetype": "text/x-python",
   "name": "python",
   "nbconvert_exporter": "python",
   "pygments_lexer": "ipython3",
   "version": "3.9.18"
  }
 },
 "nbformat": 4,
 "nbformat_minor": 2
}
