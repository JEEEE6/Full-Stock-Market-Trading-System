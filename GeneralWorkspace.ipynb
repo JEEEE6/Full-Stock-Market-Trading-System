{
 "cells": [
  {
   "cell_type": "code",
   "execution_count": 12,
   "metadata": {},
   "outputs": [
    {
     "name": "stdout",
     "output_type": "stream",
     "text": [
      "New data:\n",
      "  Symbol LastBuySignalDate  LastBuySignalPrice  IsCurrentlyBought  \\\n",
      "0    FOA        2024-09-09               12.26              False   \n",
      "\n",
      "   ConsecutiveLosses  LastTradedDate  UpProbability  LastSellPrice  \\\n",
      "0                  0             NaN           0.72            NaN   \n",
      "\n",
      "   PositionSize  \n",
      "0           NaN  \n",
      "\n",
      "Data has been created and saved to trading_data.parquet\n"
     ]
    }
   ],
   "source": [
    "import pandas as pd\n",
    "import numpy as np\n",
    "\n",
    "# Create a new DataFrame with the FOA entry\n",
    "data = pd.DataFrame({\n",
    "    'Symbol': ['FOA'],\n",
    "    'LastBuySignalDate': ['2024-09-09'],\n",
    "    'LastBuySignalPrice': [12.26],\n",
    "    'IsCurrentlyBought': [False],\n",
    "    'ConsecutiveLosses': [0],\n",
    "    'LastTradedDate': [np.nan],\n",
    "    'UpProbability': [0.72],\n",
    "    'LastSellPrice': [np.nan],\n",
    "    'PositionSize': [np.nan]\n",
    "})\n",
    "\n",
    "# Print the new data\n",
    "print(\"New data:\")\n",
    "print(data)\n",
    "\n",
    "# Save the data to the parquet file\n",
    "data.to_parquet(\"_Live_trades.parquet\")\n",
    "\n",
    "print(\"\\nData has been created and saved to trading_data.parquet\")"
   ]
  },
  {
   "cell_type": "code",
   "execution_count": 1,
   "metadata": {},
   "outputs": [
    {
     "name": "stdout",
     "output_type": "stream",
     "text": [
      "  Symbol LastBuySignalDate  LastBuySignalPrice  IsCurrentlyBought  \\\n",
      "0    FOA        2024-09-09               12.26               True   \n",
      "\n",
      "   ConsecutiveLosses LastTradedDate  UpProbability  LastSellPrice  \\\n",
      "0                  0            NaT           0.72            NaN   \n",
      "\n",
      "   PositionSize  \n",
      "0           0.0  \n"
     ]
    }
   ],
   "source": [
    "import pandas as pd\n",
    "\n",
    "df = pd.read_parquet('_Live_trades.parquet')\n",
    "\n",
    "print(df.head())"
   ]
  }
 ],
 "metadata": {
  "kernelspec": {
   "display_name": "tf",
   "language": "python",
   "name": "python3"
  },
  "language_info": {
   "codemirror_mode": {
    "name": "ipython",
    "version": 3
   },
   "file_extension": ".py",
   "mimetype": "text/x-python",
   "name": "python",
   "nbconvert_exporter": "python",
   "pygments_lexer": "ipython3",
   "version": "3.9.18"
  }
 },
 "nbformat": 4,
 "nbformat_minor": 2
}
